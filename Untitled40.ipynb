{
  "nbformat": 4,
  "nbformat_minor": 0,
  "metadata": {
    "colab": {
      "provenance": [],
      "authorship_tag": "ABX9TyNw3LjxfqYSxh6gh0LKljV0",
      "include_colab_link": true
    },
    "kernelspec": {
      "name": "python3",
      "display_name": "Python 3"
    },
    "language_info": {
      "name": "python"
    }
  },
  "cells": [
    {
      "cell_type": "markdown",
      "metadata": {
        "id": "view-in-github",
        "colab_type": "text"
      },
      "source": [
        "<a href=\"https://colab.research.google.com/github/il-young/AI_Report/blob/main/Untitled40.ipynb\" target=\"_parent\"><img src=\"https://colab.research.google.com/assets/colab-badge.svg\" alt=\"Open In Colab\"/></a>"
      ]
    },
    {
      "cell_type": "code",
      "execution_count": 4,
      "metadata": {
        "colab": {
          "base_uri": "https://localhost:8080/"
        },
        "id": "sCSydPTrJeD4",
        "outputId": "508bed7d-56fe-4f68-8ab5-0aac70fa68b8"
      },
      "outputs": [
        {
          "output_type": "stream",
          "name": "stdout",
          "text": [
            "fatal: destination path 'chatbot' already exists and is not an empty directory.\n"
          ]
        }
      ],
      "source": [
        "!git clone https://github.com/CUKykkim/chatbot.git"
      ]
    },
    {
      "cell_type": "code",
      "source": [
        "import pandas as pd\n",
        "from sklearn.feature_extraction.text import TfidfVectorizer\n",
        "from sklearn.metrics.pairwise import cosine_similarity"
      ],
      "metadata": {
        "id": "naBSAiZTKdqt"
      },
      "execution_count": 5,
      "outputs": []
    },
    {
      "cell_type": "code",
      "source": [
        "# 레벤슈타인 거리 구하기\n",
        "def calc_distance(a, b):\n",
        "    ''' 레벤슈타인 거리 계산하기 '''\n",
        "    if a == b: return 0 # 같으면 0을 반환\n",
        "    a_len = len(a) # a 길이\n",
        "    b_len = len(b) # b 길이\n",
        "    if a == \"\": return b_len\n",
        "    if b == \"\": return a_len\n",
        "    # 2차원 표 (a_len+1, b_len+1) 준비하기 --- (※1)\n",
        "    # matrix 초기화의 예 : [[0, 1, 2, 3], [1, 0, 0, 0, 0], [2, 0, 0, 0, 0], [3, 0, 0, 0, 0], [4, 0, 0, 0, 0]]\n",
        "    # [0, 1, 2, 3]\n",
        "    # [1, 0, 0, 0]\n",
        "    # [2, 0, 0, 0]\n",
        "    # [3, 0, 0, 0] \n",
        "    matrix = [[] for i in range(a_len+1)] # 리스트 컴프리헨션을 사용하여 1차원 초기화\n",
        "    for i in range(a_len+1): # 0으로 초기화\n",
        "        matrix[i] = [0 for j in range(b_len+1)]  # 리스트 컴프리헨션을 사용하여 2차원 초기화\n",
        "    # 0일 때 초깃값을 설정\n",
        "    for i in range(a_len+1):\n",
        "        matrix[i][0] = i\n",
        "    for j in range(b_len+1):\n",
        "        matrix[0][j] = j\n",
        "    # 표 채우기 --- (※2)\n",
        "    # print(matrix,'----------')\n",
        "    for i in range(1, a_len+1):\n",
        "        ac = a[i-1]\n",
        "        # print(ac,'=============')\n",
        "        for j in range(1, b_len+1):\n",
        "            bc = b[j-1] \n",
        "            # print(bc)\n",
        "            cost = 0 if (ac == bc) else 1  #  파이썬 조건 표현식 예:) result = value1 if condition else value2\n",
        "            matrix[i][j] = min([\n",
        "                matrix[i-1][j] + 1,     # 문자 제거: 위쪽에서 +1\n",
        "                matrix[i][j-1] + 1,     # 문자 삽입: 왼쪽 수에서 +1   \n",
        "                matrix[i-1][j-1] + cost # 문자 변경: 대각선에서 +1, 문자가 동일하면 대각선 숫자 복사\n",
        "            ])\n",
        "            # print(matrix)\n",
        "        # print(matrix,'----------끝')\n",
        "    return matrix[a_len][b_len]\n"
      ],
      "metadata": {
        "id": "XoBxbq7Z7bY8"
      },
      "execution_count": 17,
      "outputs": []
    },
    {
      "cell_type": "code",
      "source": [
        "class SimpleChatBot:\n",
        "    def __init__(self, filepath):\n",
        "        self.questions, self.answers = self.load_data(filepath)\n",
        "        self.vectorizer = TfidfVectorizer()\n",
        "        self.question_vectors = self.vectorizer.fit_transform(self.questions)  # 질문을 TF-IDF로 변환\n",
        "\n",
        "    def load_data(self, filepath):\n",
        "        data = pd.read_csv(filepath)\n",
        "        questions = data['Q'].tolist()  # 질문열만 뽑아 파이썬 리스트로 저장\n",
        "        answers = data['A'].tolist()   # 답변열만 뽑아 파이썬 리스트로 저장\n",
        "        return questions, answers\n",
        "\n",
        "    def find_best_answer(self, input_sentence):\n",
        "        \n",
        "        minVal = 999;                                               # 최소 값 저장 변서\n",
        "        index = -1;                                                 # 최소 값을 가지는 인덱스\n",
        "\n",
        "        for q in range(len(self.questions)):                        # 모든 질문 검사\n",
        "            temp = calc_distance(input_sentence, self.questions[q]) # 레벤슈타인 거리 계산 값 저장\n",
        "            if minVal > temp :                                      # 현제 계산 값이 기존에 저장 된 최소 값 보다 작은가?\n",
        "                minVal = temp                                       # 최소 값 저장\n",
        "                index = q                                           # 인덱스 값 저장                \n",
        "\n",
        "        return self.answers[index]"
      ],
      "metadata": {
        "id": "iMNWNgqHKf42"
      },
      "execution_count": 18,
      "outputs": []
    },
    {
      "cell_type": "code",
      "source": [
        "# CSV 파일 경로를 지정하세요.\n",
        "filepath = '/content/chatbot/ChatbotData.csv'\n",
        "\n",
        "# 간단한 챗봇 인스턴스를 생성합니다.\n",
        "chatbot = SimpleChatBot(filepath)"
      ],
      "metadata": {
        "id": "_OwNbqbgKiFI"
      },
      "execution_count": 7,
      "outputs": []
    },
    {
      "cell_type": "code",
      "source": [
        "# \"얼마나 분석이 될까요\"와 \"유사도나 분석 할까요\"의 거리 --- (※3)\n",
        "print(calc_distance(\"얼마나 분석이 될까요\",\"유사도나 분석 할까요\"))\n",
        "# 실행 예\n",
        "#samples = [\"신촌역\",\"신천군\",\"신천역\",\"신발\",\"마곡역\"]\n",
        "#base = samples[0]\n",
        "#r = sorted(samples, key = lambda n: calc_distance(base, n))  # samples 리스트의 각 요소에 대해 calc_distance(base, n) 함수를 호출하여 레벤슈타인 거리를 계산하고, 이를 기준으로 리스트를 정렬\n",
        "#for n in r:\n",
        "#    print(calc_distance(base, n), n)"
      ],
      "metadata": {
        "colab": {
          "base_uri": "https://localhost:8080/"
        },
        "id": "_h5pSUoq7inB",
        "outputId": "7de1f90c-af18-4ff6-80a5-a5a2a203ba85"
      },
      "execution_count": 10,
      "outputs": [
        {
          "output_type": "stream",
          "name": "stdout",
          "text": [
            "5\n"
          ]
        }
      ]
    },
    {
      "cell_type": "code",
      "source": [
        "while True:\n",
        "    input_sentence = input('You: ')\n",
        "    if input_sentence.lower() == '종료':\n",
        "        break\n",
        "    response = chatbot.find_best_answer(input_sentence)\n",
        "    print('Chatbot:', response)"
      ],
      "metadata": {
        "colab": {
          "base_uri": "https://localhost:8080/"
        },
        "id": "OKnccD4zK3nh",
        "outputId": "49f2c0f5-4a29-4cbe-c4c1-87267b3cf482"
      },
      "execution_count": 19,
      "outputs": [
        {
          "name": "stdout",
          "output_type": "stream",
          "text": [
            "You: 보드\n",
            "Chatbot: 저도 배워보고 싶어요.\n",
            "You: 피곤\n",
            "Chatbot: 하루가 또 가네요.\n",
            "You: 피곤해\n",
            "Chatbot: 푹 쉬세요.\n",
            "You: 잠와\n",
            "Chatbot: 눈꺼풀의 무게를 이겨내세요.\n",
            "You: 종료\n"
          ]
        }
      ]
    }
  ]
}